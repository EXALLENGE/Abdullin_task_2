{
 "cells": [
  {
   "cell_type": "code",
   "execution_count": 71,
   "metadata": {},
   "outputs": [
    {
     "name": "stdout",
     "output_type": "stream",
     "text": [
      "Guess a letter:\n",
      "i\n",
      "Missed, mistake 1 out of 5.\n",
      "\n",
      "The word: *********\n",
      "\n",
      "Guess a letter:\n",
      "p\n",
      "Hit!\n",
      "\n",
      "The word: P****P***\n",
      "\n",
      "Guess a letter:\n",
      "o\n",
      "Hit!\n",
      "\n",
      "The word: Po***P***\n",
      "\n",
      "Guess a letter:\n",
      "w\n",
      "Hit!\n",
      "\n",
      "The word: Pow**P***\n",
      "\n",
      "Guess a letter:\n",
      "e\n",
      "Hit!\n",
      "\n",
      "The word: Powe*P***\n",
      "\n",
      "Guess a letter:\n",
      "r\n",
      "Hit!\n",
      "\n",
      "The word: PowerP***\n",
      "\n",
      "Guess a letter:\n",
      "u\n",
      "Hit!\n",
      "\n",
      "The word: PowerPu**\n",
      "\n",
      "Guess a letter:\n",
      "f\n",
      "Hit!\n",
      "\n",
      "The word: PowerPuff\n",
      "\n",
      "U won!\n"
     ]
    }
   ],
   "source": [
    "import random, re\n",
    "\n",
    "mistakes = 0\n",
    "hits = 0\n",
    "words = (\"Anton\", \"Ravil\", \"Daemon\", \"Mary\", \"Deador\", \"PowerPuff\")\n",
    "word = random.choice(words)\n",
    "wordLen = len(word)\n",
    "userWord = \"*\" * wordLen\n",
    "\n",
    "while mistakes != 5 and hits < len(word):\n",
    "    print(\"Guess a letter:\")\n",
    "    inputLetter = input().lower()\n",
    "    if len(inputLetter) > 1:\n",
    "        print(\"Input only one letter, plz!\")\n",
    "        continue\n",
    "    if inputLetter in word.lower():\n",
    "        print(\"Hit!\\n\")\n",
    "        userWord = list(userWord)\n",
    "        letterInside = [m.start() for m in re.finditer(inputLetter, word.lower())]\n",
    "        for i in letterInside:\n",
    "            userWord[i] = word[i]\n",
    "        userWord = \"\".join(userWord)\n",
    "        hits += len(letterInside)\n",
    "    else:\n",
    "        mistakes += 1\n",
    "        print(f\"Missed, mistake {mistakes} out of 5.\\n\")\n",
    "    print(f\"The word: {userWord}\\n\")\n",
    "        \n",
    "if hits >= len(word):\n",
    "    print(\"U won!\")\n",
    "else:\n",
    "    print(\"U lost!\")\n"
   ]
  },
  {
   "cell_type": "code",
   "execution_count": null,
   "metadata": {},
   "outputs": [],
   "source": [
    "\n"
   ]
  },
  {
   "cell_type": "code",
   "execution_count": null,
   "metadata": {},
   "outputs": [],
   "source": []
  }
 ],
 "metadata": {
  "kernelspec": {
   "display_name": "Python 3",
   "language": "python",
   "name": "python3"
  },
  "language_info": {
   "codemirror_mode": {
    "name": "ipython",
    "version": 3
   },
   "file_extension": ".py",
   "mimetype": "text/x-python",
   "name": "python",
   "nbconvert_exporter": "python",
   "pygments_lexer": "ipython3",
   "version": "3.7.1"
  }
 },
 "nbformat": 4,
 "nbformat_minor": 2
}
